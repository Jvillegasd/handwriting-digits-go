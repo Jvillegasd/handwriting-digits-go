{
  "nbformat": 4,
  "nbformat_minor": 0,
  "metadata": {
    "colab": {
      "name": "mninst_digit_recog.ipynb",
      "provenance": [],
      "collapsed_sections": []
    },
    "kernelspec": {
      "name": "python3",
      "display_name": "Python 3"
    },
    "language_info": {
      "name": "python"
    }
  },
  "cells": [
    {
      "cell_type": "code",
      "source": [
        "# Install tensorflowjs for download model\n",
        "!pip install tensorflowjs"
      ],
      "metadata": {
        "id": "MeyInzspbra2"
      },
      "execution_count": null,
      "outputs": []
    },
    {
      "cell_type": "code",
      "source": [
        "# Declare constants\n",
        "EPOCHS: int = 14\n",
        "BATCH_SIZE: int = 128\n",
        "TEST_SIZE: float = 0.1\n",
        "TEST_BATCH_SIZE: int = 64\n",
        "RANDOM_STATE: int = 42\n",
        "NUM_CLASSES: int = 10"
      ],
      "metadata": {
        "id": "PP-SH1bnh4Wf"
      },
      "execution_count": null,
      "outputs": []
    },
    {
      "cell_type": "code",
      "source": [
        "from keras.datasets import mnist\n",
        "\n",
        "# Load dataset\n",
        "(x_train, y_train), (x_test, y_test) = mnist.load_data()"
      ],
      "metadata": {
        "id": "ECIezCQPA5uW"
      },
      "execution_count": null,
      "outputs": []
    },
    {
      "cell_type": "code",
      "source": [
        "from keras.utils.np_utils import to_categorical\n",
        "from sklearn.model_selection import train_test_split\n",
        "\n",
        "# Normalize images\n",
        "x_train = x_train.astype('float32') / 255.0\n",
        "x_test = x_test.astype('float32') / 255.0\n",
        "\n",
        "# Label encoding\n",
        "y_train = to_categorical(y_train, num_classes=NUM_CLASSES)\n",
        "y_test = to_categorical(y_test, num_classes=NUM_CLASSES)\n",
        "\n",
        "# Split data for validation\n",
        "x_train, x_val, y_train, y_val = train_test_split(x_train,\n",
        "                                                  y_train,\n",
        "                                                  test_size=TEST_SIZE,\n",
        "                                                  random_state=RANDOM_STATE)"
      ],
      "metadata": {
        "id": "pf2yDWrKimAL"
      },
      "execution_count": null,
      "outputs": []
    },
    {
      "cell_type": "code",
      "source": [
        "# Reshape input images (n_samples, h * w)\n",
        "# This reshaping works because dataset images are grayscale.\n",
        "x_train = x_train.reshape(x_train.shape[0], -1)\n",
        "x_val = x_val.reshape(x_val.shape[0], -1)\n",
        "x_test = x_test.reshape(x_test.shape[0], -1)\n",
        "\n",
        "print('|==== Shapes ====|', '\\n')\n",
        "\n",
        "print(f'x_train shape: {x_train.shape}')\n",
        "print(f'y_train shape: {y_train.shape}', '\\n')\n",
        "\n",
        "print(f'x_val shape: {x_val.shape}')\n",
        "print(f'y_val shape: {y_val.shape}', '\\n')\n",
        "\n",
        "print(f'x_test shape: {x_test.shape}')\n",
        "print(f'y_test shape: {y_test.shape}', '\\n')\n",
        "\n",
        "print('|==== Samples ====|', '\\n')\n",
        "\n",
        "print(f'validation samples: {x_val.shape[1]}')\n",
        "print(f'test samples: {x_test.shape[1]}', '\\n')"
      ],
      "metadata": {
        "colab": {
          "base_uri": "https://localhost:8080/"
        },
        "id": "bPCs0W3OkQy4",
        "outputId": "79bd63d6-428e-4e84-aa9a-fe854ede8a65"
      },
      "execution_count": null,
      "outputs": [
        {
          "output_type": "stream",
          "name": "stdout",
          "text": [
            "|==== Shapes ====| \n",
            "\n",
            "x_train shape: (54000, 784)\n",
            "y_train shape: (54000, 10) \n",
            "\n",
            "x_val shape: (6000, 784)\n",
            "y_val shape: (6000, 10) \n",
            "\n",
            "x_test shape: (10000, 784)\n",
            "y_test shape: (10000, 10) \n",
            "\n",
            "|==== Samples ====| \n",
            "\n",
            "validation samples: 784\n",
            "test samples: 784 \n",
            "\n"
          ]
        }
      ]
    },
    {
      "cell_type": "code",
      "source": [
        "# Build the FC model\n",
        "\n",
        "from tensorflow.keras import Input, Sequential, layers\n",
        "\n",
        "print('|==== Building the model... ====|', '\\n')\n",
        "model = Sequential([\n",
        "                    Input(shape=(x_train.shape[1],)),\n",
        "                    layers.Dense(256, activation='sigmoid'),\n",
        "                    layers.Dense(128, activation='sigmoid'),\n",
        "                    layers.Dense(10, activation='softmax')\n",
        "])\n",
        "\n",
        "model.summary()"
      ],
      "metadata": {
        "colab": {
          "base_uri": "https://localhost:8080/"
        },
        "id": "YA6cJIgaA_TI",
        "outputId": "24c19591-e217-4488-992e-13d2236ffada"
      },
      "execution_count": null,
      "outputs": [
        {
          "output_type": "stream",
          "name": "stdout",
          "text": [
            "|==== Building the model... ====| \n",
            "\n",
            "Model: \"sequential_23\"\n",
            "_________________________________________________________________\n",
            " Layer (type)                Output Shape              Param #   \n",
            "=================================================================\n",
            " dense_69 (Dense)            (None, 256)               200960    \n",
            "                                                                 \n",
            " dense_70 (Dense)            (None, 128)               32896     \n",
            "                                                                 \n",
            " dense_71 (Dense)            (None, 10)                1290      \n",
            "                                                                 \n",
            "=================================================================\n",
            "Total params: 235,146\n",
            "Trainable params: 235,146\n",
            "Non-trainable params: 0\n",
            "_________________________________________________________________\n"
          ]
        }
      ]
    },
    {
      "cell_type": "code",
      "source": [
        "# Train the model\n",
        "\n",
        "from tensorflow.keras.optimizers import Adam\n",
        "\n",
        "adam = Adam()\n",
        "model.compile(loss='categorical_crossentropy',\n",
        "              optimizer=adam, metrics=['accuracy'])\n",
        "\n",
        "print('|==== Training the model... ====|', '\\n')\n",
        "history = model.fit(x_train,\n",
        "                    y_train,\n",
        "                    validation_data=(x_val, y_val),\n",
        "                    epochs=EPOCHS,\n",
        "                    batch_size=BATCH_SIZE)"
      ],
      "metadata": {
        "colab": {
          "base_uri": "https://localhost:8080/"
        },
        "id": "Iz2aHKlIF7i2",
        "outputId": "d3baf495-88ed-49bf-b1ee-fe78f041768c"
      },
      "execution_count": null,
      "outputs": [
        {
          "output_type": "stream",
          "name": "stdout",
          "text": [
            "|==== Training the model... ====| \n",
            "\n",
            "Epoch 1/14\n",
            "422/422 [==============================] - 3s 7ms/step - loss: 0.6479 - accuracy: 0.8390 - val_loss: 0.2812 - val_accuracy: 0.9208\n",
            "Epoch 2/14\n",
            "422/422 [==============================] - 3s 6ms/step - loss: 0.2461 - accuracy: 0.9279 - val_loss: 0.2012 - val_accuracy: 0.9403\n",
            "Epoch 3/14\n",
            "422/422 [==============================] - 3s 6ms/step - loss: 0.1867 - accuracy: 0.9457 - val_loss: 0.1622 - val_accuracy: 0.9517\n",
            "Epoch 4/14\n",
            "422/422 [==============================] - 3s 6ms/step - loss: 0.1481 - accuracy: 0.9569 - val_loss: 0.1369 - val_accuracy: 0.9588\n",
            "Epoch 5/14\n",
            "422/422 [==============================] - 3s 6ms/step - loss: 0.1206 - accuracy: 0.9650 - val_loss: 0.1174 - val_accuracy: 0.9648\n",
            "Epoch 6/14\n",
            "422/422 [==============================] - 3s 6ms/step - loss: 0.0993 - accuracy: 0.9715 - val_loss: 0.1007 - val_accuracy: 0.9693\n",
            "Epoch 7/14\n",
            "422/422 [==============================] - 3s 6ms/step - loss: 0.0817 - accuracy: 0.9770 - val_loss: 0.0954 - val_accuracy: 0.9715\n",
            "Epoch 8/14\n",
            "422/422 [==============================] - 3s 7ms/step - loss: 0.0678 - accuracy: 0.9805 - val_loss: 0.0883 - val_accuracy: 0.9745\n",
            "Epoch 9/14\n",
            "422/422 [==============================] - 3s 6ms/step - loss: 0.0574 - accuracy: 0.9836 - val_loss: 0.0788 - val_accuracy: 0.9770\n",
            "Epoch 10/14\n",
            "422/422 [==============================] - 3s 6ms/step - loss: 0.0484 - accuracy: 0.9859 - val_loss: 0.0736 - val_accuracy: 0.9770\n",
            "Epoch 11/14\n",
            "422/422 [==============================] - 3s 6ms/step - loss: 0.0398 - accuracy: 0.9888 - val_loss: 0.0699 - val_accuracy: 0.9805\n",
            "Epoch 12/14\n",
            "422/422 [==============================] - 3s 7ms/step - loss: 0.0332 - accuracy: 0.9907 - val_loss: 0.0658 - val_accuracy: 0.9792\n",
            "Epoch 13/14\n",
            "422/422 [==============================] - 3s 6ms/step - loss: 0.0272 - accuracy: 0.9929 - val_loss: 0.0676 - val_accuracy: 0.9790\n",
            "Epoch 14/14\n",
            "422/422 [==============================] - 4s 9ms/step - loss: 0.0223 - accuracy: 0.9947 - val_loss: 0.0611 - val_accuracy: 0.9808\n"
          ]
        }
      ]
    },
    {
      "cell_type": "code",
      "source": [
        "# Evaluate the model\n",
        "\n",
        "from sklearn.metrics import classification_report\n",
        "\n",
        "print('|==== Evaluating the model... ====|', '\\n')\n",
        "\n",
        "target_names = [str(label) for label in range(NUM_CLASSES)]\n",
        "predictions = model.predict(x_test, batch_size=TEST_BATCH_SIZE)\n",
        "report = classification_report(y_test.argmax(axis=1),\n",
        "                               predictions.argmax(axis=1),\n",
        "                               target_names=target_names)\n",
        "print(report, '\\n')"
      ],
      "metadata": {
        "colab": {
          "base_uri": "https://localhost:8080/"
        },
        "id": "WH7ZBUWJGooD",
        "outputId": "8ebb3b7d-61c6-436c-c815-bdc1cff557e9"
      },
      "execution_count": null,
      "outputs": [
        {
          "output_type": "stream",
          "name": "stdout",
          "text": [
            "|==== Evaluating the model... ====| \n",
            "\n",
            "              precision    recall  f1-score   support\n",
            "\n",
            "           0       0.98      0.99      0.99       980\n",
            "           1       0.99      0.99      0.99      1135\n",
            "           2       0.98      0.98      0.98      1032\n",
            "           3       0.98      0.97      0.98      1010\n",
            "           4       0.98      0.98      0.98       982\n",
            "           5       0.98      0.97      0.98       892\n",
            "           6       0.98      0.98      0.98       958\n",
            "           7       0.98      0.97      0.98      1028\n",
            "           8       0.97      0.98      0.97       974\n",
            "           9       0.97      0.97      0.97      1009\n",
            "\n",
            "    accuracy                           0.98     10000\n",
            "   macro avg       0.98      0.98      0.98     10000\n",
            "weighted avg       0.98      0.98      0.98     10000\n",
            " \n",
            "\n"
          ]
        }
      ]
    },
    {
      "cell_type": "code",
      "source": [
        "# Plot model cost function iterations in training session\n",
        "\n",
        "import matplotlib.pyplot as plt\n",
        "\n",
        "plt.style.use('ggplot')\n",
        "plt.figure()\n",
        "\n",
        "epoch_values = list(range(EPOCHS))\n",
        "plt.plot(epoch_values, history.history['loss'], label='Cost function at training')\n",
        "plt.plot(epoch_values, history.history['val_loss'], label='Cost function at validation')\n",
        "plt.plot(epoch_values, history.history['accuracy'], label='Accuracy at training')\n",
        "plt.plot(epoch_values, history.history['val_accuracy'], label='Accuracy at validation')\n",
        "\n",
        "plt.title('Training history')\n",
        "plt.xlabel('Epoch N.')\n",
        "plt.ylabel('Loss/accuracy')\n",
        "plt.legend()"
      ],
      "metadata": {
        "colab": {
          "base_uri": "https://localhost:8080/",
          "height": 106
        },
        "id": "Vqnqti2fUxlp",
        "outputId": "6ef1f727-7104-4c1b-ce70-556790d411b2"
      },
      "execution_count": null,
      "outputs": [
        {
          "output_type": "execute_result",
          "data": {
            "text/plain": [
              "<matplotlib.legend.Legend at 0x7fd19e2a4c90>"
            ]
          },
          "metadata": {},
          "execution_count": 183
        },
        {
          "output_type": "display_data",
          "data": {
            "text/plain": [
              "<Figure size 432x288 with 1 Axes>"
            ],
            "image/png": "[encoded data removed]"
          },
          "metadata": {}
        }
      ]
    },
    {
      "cell_type": "code",
      "source": [
        "%rm keras.h5\n",
        "model.save('keras.h5')"
      ],
      "metadata": {
        "id": "AKQMPDk6bI6P"
      },
      "execution_count": null,
      "outputs": []
    },
    {
      "cell_type": "code",
      "source": [
        "%rm -r model\n",
        "%mkdir model\n",
        "\n",
        "!tensorflowjs_converter --input_format keras keras.h5 model/"
      ],
      "metadata": {
        "id": "3IUP2u6wbgQA"
      },
      "execution_count": null,
      "outputs": []
    },
    {
      "cell_type": "code",
      "source": [
        "# Download model\n",
        "from google.colab import files\n",
        "!zip -r model.zip model\n",
        "files.download('model.zip')"
      ],
      "metadata": {
        "colab": {
          "base_uri": "https://localhost:8080/",
          "height": 69
        },
        "id": "AuepXgg3bh4o",
        "outputId": "6877143e-8141-4c2c-d9da-a1316eeccbbf"
      },
      "execution_count": null,
      "outputs": [
        {
          "output_type": "stream",
          "name": "stdout",
          "text": [
            "updating: model/ (stored 0%)\n",
            "updating: model/group1-shard1of1.bin (deflated 7%)\n",
            "updating: model/model.json (deflated 74%)\n"
          ]
        },
        {
          "output_type": "display_data",
          "data": {
            "text/plain": [
              "<IPython.core.display.Javascript object>"
            ],
            "application/javascript": [
              "\n",
              "    async function download(id, filename, size) {\n",
              "      if (!google.colab.kernel.accessAllowed) {\n",
              "        return;\n",
              "      }\n",
              "      const div = document.createElement('div');\n",
              "      const label = document.createElement('label');\n",
              "      label.textContent = `Downloading \"${filename}\": `;\n",
              "      div.appendChild(label);\n",
              "      const progress = document.createElement('progress');\n",
              "      progress.max = size;\n",
              "      div.appendChild(progress);\n",
              "      document.body.appendChild(div);\n",
              "\n",
              "      const buffers = [];\n",
              "      let downloaded = 0;\n",
              "\n",
              "      const channel = await google.colab.kernel.comms.open(id);\n",
              "      // Send a message to notify the kernel that we're ready.\n",
              "      channel.send({})\n",
              "\n",
              "      for await (const message of channel.messages) {\n",
              "        // Send a message to notify the kernel that we're ready.\n",
              "        channel.send({})\n",
              "        if (message.buffers) {\n",
              "          for (const buffer of message.buffers) {\n",
              "            buffers.push(buffer);\n",
              "            downloaded += buffer.byteLength;\n",
              "            progress.value = downloaded;\n",
              "          }\n",
              "        }\n",
              "      }\n",
              "      const blob = new Blob(buffers, {type: 'application/binary'});\n",
              "      const a = document.createElement('a');\n",
              "      a.href = window.URL.createObjectURL(blob);\n",
              "      a.download = filename;\n",
              "      div.appendChild(a);\n",
              "      a.click();\n",
              "      div.remove();\n",
              "    }\n",
              "  "
            ]
          },
          "metadata": {}
        },
        {
          "output_type": "display_data",
          "data": {
            "text/plain": [
              "<IPython.core.display.Javascript object>"
            ],
            "application/javascript": [
              "download(\"download_abf7343f-2f17-4b44-ab3b-a503d5d5f15b\", \"model.zip\", 874060)"
            ]
          },
          "metadata": {}
        }
      ]
    }
  ]
}